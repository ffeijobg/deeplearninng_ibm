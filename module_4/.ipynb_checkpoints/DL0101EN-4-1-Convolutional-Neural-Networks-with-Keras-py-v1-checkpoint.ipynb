{
 "cells": [
  {
   "cell_type": "markdown",
   "metadata": {},
   "source": [
    "<a href=\"https://cognitiveclass.ai\"><img src=\"https://cf-courses-data.s3.us.cloud-object-storage.appdomain.cloud/IBMDeveloperSkillsNetwork-DL0101EN-SkillsNetwork/images/IDSN-logo.png\" width=\"400\"> </a>\n",
    "\n",
    "# Convolutional Neural Networks with Keras\n",
    "\n",
    "Estimated time needed **30** mins\n"
   ]
  },
  {
   "cell_type": "markdown",
   "metadata": {},
   "source": [
    "In this lab, we will learn how to use the Keras library to build convolutional neural networks. We will also use the popular MNIST dataset and we will compare our results to using a conventional neural network.\n"
   ]
  },
  {
   "cell_type": "markdown",
   "metadata": {},
   "source": [
    "## Objectives for this Notebook    \n",
    "* How to use the Keras library to build convolutional neural networks\n",
    "* Convolutional neural network with one set of convolutional and pooling layers\n",
    "* Convolutional neural network with two sets of convolutional and pooling layers\n",
    "\n"
   ]
  },
  {
   "cell_type": "markdown",
   "metadata": {},
   "source": [
    "## Table of Contents\n",
    "\n",
    "<div class=\"alert alert-block alert-info\" style=\"margin-top: 20px\">\n",
    "\n",
    "<font size = 3>\n",
    "      \n",
    "1. <a href=\"#Import-Keras-and-Packages\">Import Keras and Packages</a>   \n",
    "2. <a href=\"#Convolutional-Neural-Network-with-One-Set-of-Convolutional-and-Pooling-Layers\">Convolutional Neural Network with One Set of Convolutional and Pooling Layers</a>  \n",
    "3. <a href=\"#Convolutional-Neural-Network-with-Two-Sets-of-Convolutional-and-Pooling-Layers\">Convolutional Neural Network with Two Sets of Convolutional and Pooling Layers</a>  \n",
    "\n",
    "</font>\n",
    "</div>\n"
   ]
  },
  {
   "cell_type": "markdown",
   "metadata": {},
   "source": [
    "### Install the necessary libraries\n"
   ]
  },
  {
   "cell_type": "markdown",
   "metadata": {},
   "source": [
    "Let's start by installing the keras libraries and the packages that we would need to build a neural network.\n"
   ]
  },
  {
   "cell_type": "code",
   "execution_count": null,
   "metadata": {},
   "outputs": [],
   "source": [
    "# All Libraries required for this lab are listed below. The libraries need to be installed on Skills Network Labs. \n",
    "# If you run this notebook on a different environment, e.g. your desktop, you may want to install these.\n",
    "#!pip install numpy==2.0.2\n",
    "#!pip install pandas==2.2.2\n",
    "#!pip install tensorflow_cpu==2.18.0\n",
    "#!pip install matplotlib==3.9.2"
   ]
  },
  {
   "cell_type": "markdown",
   "metadata": {},
   "source": [
    "#### Suppress the tensorflow warning messages\n",
    "We use the following code to  suppress the warning messages due to use of CPU architechture for tensoflow.\n",
    "You may want to **comment out** these lines if you are using the GPU architechture\n"
   ]
  },
  {
   "cell_type": "code",
   "execution_count": 1,
   "metadata": {},
   "outputs": [],
   "source": [
    "import os\n",
    "#os.environ['TF_ENABLE_ONEDNN_OPTS'] = '0'\n",
    "#os.environ['TF_CPP_MIN_LOG_LEVEL'] = '2'"
   ]
  },
  {
   "cell_type": "markdown",
   "metadata": {},
   "source": [
    "## Import Keras and Packages\n"
   ]
  },
  {
   "cell_type": "code",
   "execution_count": 2,
   "metadata": {},
   "outputs": [],
   "source": [
    "import keras\n",
    "from keras.models import Sequential\n",
    "from keras.layers import Dense\n",
    "from keras.layers import Input\n",
    "from keras.utils import to_categorical"
   ]
  },
  {
   "cell_type": "markdown",
   "metadata": {},
   "source": [
    "When working with convolutional neural networks in particular, we will need additional packages.\n"
   ]
  },
  {
   "cell_type": "code",
   "execution_count": 3,
   "metadata": {},
   "outputs": [],
   "source": [
    "from keras.layers import Conv2D # to add convolutional layers\n",
    "from keras.layers import MaxPooling2D # to add pooling layers\n",
    "from keras.layers import Flatten # to flatten data for fully connected layers"
   ]
  },
  {
   "cell_type": "markdown",
   "metadata": {},
   "source": [
    "## Convolutional Neural Network with One Set of Convolutional and Pooling Layers\n"
   ]
  },
  {
   "cell_type": "code",
   "execution_count": 8,
   "metadata": {},
   "outputs": [],
   "source": [
    "# import data\n",
    "from keras.datasets import mnist\n",
    "\n",
    "# load data\n",
    "(X_train, y_train), (X_test, y_test) = mnist.load_data()\n",
    "\n",
    "# reshape to be [samples][pixels][width][height]\n",
    "X_train = X_train.reshape(X_train.shape[0], 28, 28, 1).astype('float32')\n",
    "X_test = X_test.reshape(X_test.shape[0], 28, 28, 1).astype('float32')"
   ]
  },
  {
   "cell_type": "markdown",
   "metadata": {},
   "source": [
    "Let's normalize the pixel values to be between 0 and 1\n"
   ]
  },
  {
   "cell_type": "code",
   "execution_count": 9,
   "metadata": {},
   "outputs": [],
   "source": [
    "X_train = X_train / 255 # normalize training data\n",
    "X_test = X_test / 255 # normalize test data"
   ]
  },
  {
   "cell_type": "markdown",
   "metadata": {},
   "source": [
    "Next, let's convert the target variable into binary categories\n"
   ]
  },
  {
   "cell_type": "code",
   "execution_count": 10,
   "metadata": {},
   "outputs": [],
   "source": [
    "y_train = to_categorical(y_train)\n",
    "y_test = to_categorical(y_test)\n",
    "\n",
    "num_classes = y_test.shape[1] # number of categories"
   ]
  },
  {
   "cell_type": "markdown",
   "metadata": {},
   "source": [
    "Next, let's define a function that creates our model. Let's start with one set of convolutional and pooling layers.\n"
   ]
  },
  {
   "cell_type": "code",
   "execution_count": 11,
   "metadata": {},
   "outputs": [],
   "source": [
    "def convolutional_model():\n",
    "    \n",
    "    # create model\n",
    "    model = Sequential()\n",
    "    model.add(Input(shape=(28, 28, 1)))\n",
    "    model.add(Conv2D(16, (5, 5), strides=(1, 1), activation='relu'))\n",
    "    model.add(MaxPooling2D(pool_size=(2, 2), strides=(2, 2)))\n",
    "    \n",
    "    model.add(Flatten())\n",
    "    model.add(Dense(100, activation='relu'))\n",
    "    model.add(Dense(num_classes, activation='softmax'))\n",
    "    \n",
    "    # compile model\n",
    "    model.compile(optimizer='adam', loss='categorical_crossentropy',  metrics=['accuracy'])\n",
    "    return model"
   ]
  },
  {
   "cell_type": "markdown",
   "metadata": {},
   "source": [
    "Finally, let's call the function to create the model, and then let's train it and evaluate it.\n"
   ]
  },
  {
   "cell_type": "code",
   "execution_count": 12,
   "metadata": {},
   "outputs": [
    {
     "name": "stdout",
     "output_type": "stream",
     "text": [
      "Epoch 1/10\n",
      "300/300 - 1s - 4ms/step - accuracy: 0.9179 - loss: 0.2896 - val_accuracy: 0.9715 - val_loss: 0.0961\n",
      "Epoch 2/10\n",
      "300/300 - 1s - 2ms/step - accuracy: 0.9754 - loss: 0.0833 - val_accuracy: 0.9824 - val_loss: 0.0542\n",
      "Epoch 3/10\n",
      "300/300 - 1s - 2ms/step - accuracy: 0.9830 - loss: 0.0554 - val_accuracy: 0.9834 - val_loss: 0.0503\n",
      "Epoch 4/10\n",
      "300/300 - 1s - 2ms/step - accuracy: 0.9869 - loss: 0.0437 - val_accuracy: 0.9862 - val_loss: 0.0441\n",
      "Epoch 5/10\n",
      "300/300 - 1s - 2ms/step - accuracy: 0.9894 - loss: 0.0344 - val_accuracy: 0.9862 - val_loss: 0.0397\n",
      "Epoch 6/10\n",
      "300/300 - 1s - 2ms/step - accuracy: 0.9912 - loss: 0.0285 - val_accuracy: 0.9872 - val_loss: 0.0414\n",
      "Epoch 7/10\n",
      "300/300 - 1s - 2ms/step - accuracy: 0.9922 - loss: 0.0249 - val_accuracy: 0.9869 - val_loss: 0.0415\n",
      "Epoch 8/10\n",
      "300/300 - 1s - 2ms/step - accuracy: 0.9936 - loss: 0.0212 - val_accuracy: 0.9893 - val_loss: 0.0347\n",
      "Epoch 9/10\n",
      "300/300 - 1s - 2ms/step - accuracy: 0.9945 - loss: 0.0174 - val_accuracy: 0.9879 - val_loss: 0.0360\n",
      "Epoch 10/10\n",
      "300/300 - 1s - 2ms/step - accuracy: 0.9957 - loss: 0.0146 - val_accuracy: 0.9887 - val_loss: 0.0378\n",
      "Accuracy: 0.9886999726295471 \n",
      " Error: 1.130002737045288\n"
     ]
    }
   ],
   "source": [
    "# build the model\n",
    "model = convolutional_model()\n",
    "\n",
    "# fit the model\n",
    "model.fit(X_train, y_train, validation_data=(X_test, y_test), epochs=10, batch_size=200, verbose=2)\n",
    "\n",
    "# evaluate the model\n",
    "scores = model.evaluate(X_test, y_test, verbose=0)\n",
    "print(\"Accuracy: {} \\n Error: {}\".format(scores[1], 100-scores[1]*100))"
   ]
  },
  {
   "cell_type": "markdown",
   "metadata": {},
   "source": [
    "------------------------------------------\n"
   ]
  },
  {
   "cell_type": "markdown",
   "metadata": {},
   "source": [
    "## Convolutional Neural Network with Two Sets of Convolutional and Pooling Layers\n"
   ]
  },
  {
   "cell_type": "markdown",
   "metadata": {},
   "source": [
    "Let's redefine our convolutional model so that it has two convolutional and pooling layers instead of just one layer of each.\n"
   ]
  },
  {
   "cell_type": "code",
   "execution_count": 13,
   "metadata": {},
   "outputs": [],
   "source": [
    "def convolutional_model():\n",
    "    \n",
    "    # create model\n",
    "    model = Sequential()\n",
    "    model.add(Input(shape=(28, 28, 1)))\n",
    "    model.add(Conv2D(16, (5, 5), activation='relu'))\n",
    "    model.add(MaxPooling2D(pool_size=(2, 2), strides=(2, 2)))\n",
    "    \n",
    "    model.add(Conv2D(8, (2, 2), activation='relu'))\n",
    "    model.add(MaxPooling2D(pool_size=(2, 2), strides=(2, 2)))\n",
    "    \n",
    "    model.add(Flatten())\n",
    "    model.add(Dense(100, activation='relu'))\n",
    "    model.add(Dense(num_classes, activation='softmax'))\n",
    "    \n",
    "    # Compile model\n",
    "    model.compile(optimizer='adam', loss='categorical_crossentropy',  metrics=['accuracy'])\n",
    "    return model"
   ]
  },
  {
   "cell_type": "markdown",
   "metadata": {},
   "source": [
    "Now, let's call the function to create our new convolutional neural network, and then let's train it and evaluate it.\n"
   ]
  },
  {
   "cell_type": "code",
   "execution_count": 14,
   "metadata": {},
   "outputs": [
    {
     "name": "stdout",
     "output_type": "stream",
     "text": [
      "Epoch 1/10\n",
      "300/300 - 1s - 4ms/step - accuracy: 0.8719 - loss: 0.4648 - val_accuracy: 0.9626 - val_loss: 0.1283\n",
      "Epoch 2/10\n",
      "300/300 - 1s - 2ms/step - accuracy: 0.9661 - loss: 0.1128 - val_accuracy: 0.9764 - val_loss: 0.0810\n",
      "Epoch 3/10\n",
      "300/300 - 1s - 2ms/step - accuracy: 0.9759 - loss: 0.0816 - val_accuracy: 0.9798 - val_loss: 0.0675\n",
      "Epoch 4/10\n",
      "300/300 - 1s - 2ms/step - accuracy: 0.9787 - loss: 0.0674 - val_accuracy: 0.9848 - val_loss: 0.0501\n",
      "Epoch 5/10\n",
      "300/300 - 1s - 2ms/step - accuracy: 0.9832 - loss: 0.0550 - val_accuracy: 0.9842 - val_loss: 0.0504\n",
      "Epoch 6/10\n",
      "300/300 - 1s - 2ms/step - accuracy: 0.9854 - loss: 0.0478 - val_accuracy: 0.9849 - val_loss: 0.0458\n",
      "Epoch 7/10\n",
      "300/300 - 1s - 2ms/step - accuracy: 0.9870 - loss: 0.0421 - val_accuracy: 0.9853 - val_loss: 0.0439\n",
      "Epoch 8/10\n",
      "300/300 - 1s - 2ms/step - accuracy: 0.9882 - loss: 0.0378 - val_accuracy: 0.9863 - val_loss: 0.0416\n",
      "Epoch 9/10\n",
      "300/300 - 1s - 2ms/step - accuracy: 0.9897 - loss: 0.0341 - val_accuracy: 0.9891 - val_loss: 0.0345\n",
      "Epoch 10/10\n",
      "300/300 - 1s - 2ms/step - accuracy: 0.9908 - loss: 0.0308 - val_accuracy: 0.9883 - val_loss: 0.0393\n",
      "Accuracy: 0.9883000254631042 \n",
      " Error: 1.1699974536895752\n"
     ]
    }
   ],
   "source": [
    "# build the model\n",
    "model = convolutional_model()\n",
    "\n",
    "# fit the model\n",
    "model.fit(X_train, y_train, validation_data=(X_test, y_test), epochs=10, batch_size=200, verbose=2)\n",
    "\n",
    "# evaluate the model\n",
    "scores = model.evaluate(X_test, y_test, verbose=0)\n",
    "print(\"Accuracy: {} \\n Error: {}\".format(scores[1], 100-scores[1]*100))"
   ]
  },
  {
   "cell_type": "markdown",
   "metadata": {},
   "source": [
    "<h3>Practice Exercise 1</h3>\n"
   ]
  },
  {
   "cell_type": "markdown",
   "metadata": {},
   "source": [
    "Let's see how batch size affects the time required and accuracy of the model training. \n",
    "For this, you can try to change batch_size to 1024 and check it's effect on accuracy\n"
   ]
  },
  {
   "cell_type": "code",
   "execution_count": 15,
   "metadata": {},
   "outputs": [
    {
     "name": "stdout",
     "output_type": "stream",
     "text": [
      "Epoch 1/10\n",
      "59/59 - 1s - 18ms/step - accuracy: 0.6227 - loss: 1.3640 - val_accuracy: 0.8691 - val_loss: 0.4417\n",
      "Epoch 2/10\n",
      "59/59 - 1s - 10ms/step - accuracy: 0.8951 - loss: 0.3501 - val_accuracy: 0.9236 - val_loss: 0.2651\n",
      "Epoch 3/10\n",
      "59/59 - 1s - 10ms/step - accuracy: 0.9308 - loss: 0.2329 - val_accuracy: 0.9451 - val_loss: 0.1852\n",
      "Epoch 4/10\n",
      "59/59 - 1s - 10ms/step - accuracy: 0.9480 - loss: 0.1746 - val_accuracy: 0.9572 - val_loss: 0.1428\n",
      "Epoch 5/10\n",
      "59/59 - 1s - 10ms/step - accuracy: 0.9589 - loss: 0.1370 - val_accuracy: 0.9682 - val_loss: 0.1132\n",
      "Epoch 6/10\n",
      "59/59 - 1s - 10ms/step - accuracy: 0.9663 - loss: 0.1142 - val_accuracy: 0.9736 - val_loss: 0.0947\n",
      "Epoch 7/10\n",
      "59/59 - 1s - 10ms/step - accuracy: 0.9716 - loss: 0.0977 - val_accuracy: 0.9764 - val_loss: 0.0838\n",
      "Epoch 8/10\n",
      "59/59 - 1s - 10ms/step - accuracy: 0.9736 - loss: 0.0881 - val_accuracy: 0.9785 - val_loss: 0.0742\n",
      "Epoch 9/10\n",
      "59/59 - 1s - 10ms/step - accuracy: 0.9760 - loss: 0.0787 - val_accuracy: 0.9803 - val_loss: 0.0668\n",
      "Epoch 10/10\n",
      "59/59 - 1s - 10ms/step - accuracy: 0.9785 - loss: 0.0727 - val_accuracy: 0.9814 - val_loss: 0.0660\n",
      "Accuracy: 0.9814000129699707 \n",
      " Error: 1.8599987030029297\n"
     ]
    }
   ],
   "source": [
    "# build the model\n",
    "model = convolutional_model()\n",
    "\n",
    "# fit the model\n",
    "model.fit(X_train, y_train, validation_data=(X_test, y_test), epochs=10, batch_size=1024, verbose=2)\n",
    "\n",
    "# evaluate the model\n",
    "scores = model.evaluate(X_test, y_test, verbose=0)\n",
    "print(\"Accuracy: {} \\n Error: {}\".format(scores[1], 100-scores[1]*100))\n"
   ]
  },
  {
   "cell_type": "markdown",
   "metadata": {},
   "source": [
    "Double-click <b>here</b> for the solution.\n",
    "\n",
    "<!-- Your answer is below:\n",
    "# build the model\n",
    "model = convolutional_model()\n",
    "\n",
    "# fit the model\n",
    "model.fit(X_train, y_train, validation_data=(X_test, y_test), epochs=10, batch_size=1024, verbose=2)\n",
    "\n",
    "# evaluate the model\n",
    "scores = model.evaluate(X_test, y_test, verbose=0)\n",
    "print(\"Accuracy: {} \\n Error: {}\".format(scores[1], 100-scores[1]*100))\n",
    "-->\n"
   ]
  },
  {
   "cell_type": "markdown",
   "metadata": {},
   "source": [
    "<h3>Practice Exercise 2</h3>\n"
   ]
  },
  {
   "cell_type": "markdown",
   "metadata": {},
   "source": [
    "Now, let's see how number of epochs  affect the time required and accuracy of the model training. \n",
    "For this, you can keep the batch_size=1024 and epochs=25 and check it's effect on accuracy\n"
   ]
  },
  {
   "cell_type": "code",
   "execution_count": 16,
   "metadata": {},
   "outputs": [
    {
     "name": "stdout",
     "output_type": "stream",
     "text": [
      "Epoch 1/25\n",
      "59/59 - 1s - 18ms/step - accuracy: 0.6347 - loss: 1.3198 - val_accuracy: 0.8792 - val_loss: 0.4175\n",
      "Epoch 2/25\n",
      "59/59 - 1s - 10ms/step - accuracy: 0.9100 - loss: 0.3051 - val_accuracy: 0.9408 - val_loss: 0.2115\n",
      "Epoch 3/25\n",
      "59/59 - 1s - 11ms/step - accuracy: 0.9469 - loss: 0.1818 - val_accuracy: 0.9614 - val_loss: 0.1352\n",
      "Epoch 4/25\n",
      "59/59 - 1s - 10ms/step - accuracy: 0.9606 - loss: 0.1329 - val_accuracy: 0.9687 - val_loss: 0.1077\n",
      "Epoch 5/25\n",
      "59/59 - 1s - 11ms/step - accuracy: 0.9682 - loss: 0.1081 - val_accuracy: 0.9739 - val_loss: 0.0893\n",
      "Epoch 6/25\n",
      "59/59 - 1s - 11ms/step - accuracy: 0.9718 - loss: 0.0953 - val_accuracy: 0.9759 - val_loss: 0.0794\n",
      "Epoch 7/25\n",
      "59/59 - 1s - 10ms/step - accuracy: 0.9747 - loss: 0.0854 - val_accuracy: 0.9786 - val_loss: 0.0715\n",
      "Epoch 8/25\n",
      "59/59 - 1s - 11ms/step - accuracy: 0.9769 - loss: 0.0759 - val_accuracy: 0.9787 - val_loss: 0.0659\n",
      "Epoch 9/25\n",
      "59/59 - 1s - 10ms/step - accuracy: 0.9788 - loss: 0.0709 - val_accuracy: 0.9776 - val_loss: 0.0687\n",
      "Epoch 10/25\n",
      "59/59 - 1s - 10ms/step - accuracy: 0.9799 - loss: 0.0662 - val_accuracy: 0.9822 - val_loss: 0.0564\n",
      "Epoch 11/25\n",
      "59/59 - 1s - 10ms/step - accuracy: 0.9815 - loss: 0.0615 - val_accuracy: 0.9823 - val_loss: 0.0546\n",
      "Epoch 12/25\n",
      "59/59 - 1s - 10ms/step - accuracy: 0.9828 - loss: 0.0571 - val_accuracy: 0.9822 - val_loss: 0.0538\n",
      "Epoch 13/25\n",
      "59/59 - 1s - 10ms/step - accuracy: 0.9836 - loss: 0.0543 - val_accuracy: 0.9848 - val_loss: 0.0488\n",
      "Epoch 14/25\n",
      "59/59 - 1s - 10ms/step - accuracy: 0.9847 - loss: 0.0508 - val_accuracy: 0.9838 - val_loss: 0.0491\n",
      "Epoch 15/25\n",
      "59/59 - 1s - 10ms/step - accuracy: 0.9850 - loss: 0.0486 - val_accuracy: 0.9855 - val_loss: 0.0470\n",
      "Epoch 16/25\n",
      "59/59 - 1s - 10ms/step - accuracy: 0.9858 - loss: 0.0469 - val_accuracy: 0.9852 - val_loss: 0.0460\n",
      "Epoch 17/25\n",
      "59/59 - 1s - 10ms/step - accuracy: 0.9866 - loss: 0.0448 - val_accuracy: 0.9847 - val_loss: 0.0478\n",
      "Epoch 18/25\n",
      "59/59 - 1s - 10ms/step - accuracy: 0.9867 - loss: 0.0422 - val_accuracy: 0.9855 - val_loss: 0.0449\n",
      "Epoch 19/25\n",
      "59/59 - 1s - 10ms/step - accuracy: 0.9877 - loss: 0.0407 - val_accuracy: 0.9863 - val_loss: 0.0434\n",
      "Epoch 20/25\n",
      "59/59 - 1s - 10ms/step - accuracy: 0.9884 - loss: 0.0387 - val_accuracy: 0.9844 - val_loss: 0.0470\n",
      "Epoch 21/25\n",
      "59/59 - 1s - 10ms/step - accuracy: 0.9889 - loss: 0.0369 - val_accuracy: 0.9874 - val_loss: 0.0398\n",
      "Epoch 22/25\n",
      "59/59 - 1s - 10ms/step - accuracy: 0.9892 - loss: 0.0356 - val_accuracy: 0.9882 - val_loss: 0.0387\n",
      "Epoch 23/25\n",
      "59/59 - 1s - 11ms/step - accuracy: 0.9899 - loss: 0.0340 - val_accuracy: 0.9872 - val_loss: 0.0387\n",
      "Epoch 24/25\n",
      "59/59 - 1s - 10ms/step - accuracy: 0.9898 - loss: 0.0336 - val_accuracy: 0.9869 - val_loss: 0.0417\n",
      "Epoch 25/25\n",
      "59/59 - 1s - 10ms/step - accuracy: 0.9904 - loss: 0.0318 - val_accuracy: 0.9874 - val_loss: 0.0384\n",
      "Accuracy: 0.9873999953269958 \n",
      " Error: 1.260000467300415\n"
     ]
    }
   ],
   "source": [
    "# build the model\n",
    "model = convolutional_model()\n",
    "\n",
    "# fit the model\n",
    "model.fit(X_train, y_train, validation_data=(X_test, y_test), epochs=25, batch_size=1024, verbose=2)\n",
    "\n",
    "# evaluate the model\n",
    "scores = model.evaluate(X_test, y_test, verbose=0)\n",
    "print(\"Accuracy: {} \\n Error: {}\".format(scores[1], 100-scores[1]*100))\n",
    "\n",
    "\n"
   ]
  },
  {
   "cell_type": "markdown",
   "metadata": {},
   "source": [
    "Double-click <b>here</b> for the solution.\n",
    "\n",
    "<!-- Your answer is below:\n",
    "# build the model\n",
    "model = convolutional_model()\n",
    "\n",
    "# fit the model\n",
    "model.fit(X_train, y_train, validation_data=(X_test, y_test), epochs=25, batch_size=1024, verbose=2)\n",
    "\n",
    "# evaluate the model\n",
    "scores = model.evaluate(X_test, y_test, verbose=0)\n",
    "print(\"Accuracy: {} \\n Error: {}\".format(scores[1], 100-scores[1]*100))\n",
    "\n",
    "\n",
    "    -->\n"
   ]
  },
  {
   "cell_type": "markdown",
   "metadata": {},
   "source": [
    "### Thank you for completing this lab!\n",
    "\n",
    "This notebook was created by [Alex Aklson](https://www.linkedin.com/in/aklson/). I hope you found this lab interesting and educational. Feel free to contact me if you have any questions!\n"
   ]
  },
  {
   "cell_type": "markdown",
   "metadata": {},
   "source": [
    "<!--\n",
    "## Change Log\n",
    "\n",
    "|  Date (YYYY-MM-DD) |  Version | Changed By  |  Change Description |\n",
    "|---|---|---|---|\n",
    "| 2024-11-20  | 3.0  | Aman  |  Updated the library versions to current |\n",
    "| 2020-09-21  | 2.0  | Srishti  |  Migrated Lab to Markdown and added to course repo in GitLab |\n",
    "\n",
    "\n",
    "\n",
    "<hr>\n",
    "\n",
    "## <h3 align=\"center\"> © IBM Corporation. All rights reserved. <h3/>\n"
   ]
  },
  {
   "cell_type": "markdown",
   "metadata": {},
   "source": [
    "## <h3 align=\"center\"> &#169; IBM Corporation. All rights reserved. <h3/>\n",
    "\n"
   ]
  }
 ],
 "metadata": {
  "kernelspec": {
   "display_name": "Python 3 (ipykernel)",
   "language": "python",
   "name": "python3"
  },
  "language_info": {
   "codemirror_mode": {
    "name": "ipython",
    "version": 3
   },
   "file_extension": ".py",
   "mimetype": "text/x-python",
   "name": "python",
   "nbconvert_exporter": "python",
   "pygments_lexer": "ipython3",
   "version": "3.12.0"
  },
  "prev_pub_hash": "cf25684b5f40b85f8cce20a89cf822f405779387881f3fd281fbe1317debe407"
 },
 "nbformat": 4,
 "nbformat_minor": 4
}
